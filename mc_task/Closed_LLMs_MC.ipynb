{
  "cells": [
    {
      "cell_type": "markdown",
      "source": [
        "***Requirements***\n",
        "\n",
        "\n",
        "\n",
        "*   openai>=1.40.0\n",
        "*   anthropic>=0.34.0\n",
        "*   google-genai>=0.3.0\n",
        "\n",
        "\n",
        "\n",
        "\n",
        "\n",
        "\n",
        "\n"
      ],
      "metadata": {
        "id": "g-3eHlt2aeVE"
      }
    },
    {
      "cell_type": "code",
      "source": [
        "#!/usr/bin/env python3\n",
        "# Env vars: OPENAI_API_KEY, ANTHROPIC_API_KEY, GEMINI_API_KEY, DEEPSEEK_API_KEY\n",
        "import os, sys\n",
        "\n",
        "if len(sys.argv) < 2:\n",
        "    print(\"Usage: python run_gloss_llms_min.py \\\"Context and options text here\\\"\")\n",
        "    sys.exit(1)\n",
        "\n",
        "INSTRUCTION_PROMPT = (\n",
        "    \"<Your task is to choose **only one** correct\\n\"\n",
        "    \"gloss that best matches the sense of the\\n\"\n",
        "    \"word in the given context. Please respond\\n\"\n",
        "    \"with **just the number** of the correct an-\\n\"\n",
        "    \"swer (e.g., ‘0‘, ‘1‘, ‘2‘, ...). Do not include any\\n\"\n",
        "    \"text, explanation, or justification.>\"\n",
        ")\n",
        "\n",
        "task_text = sys.argv[1]\n",
        "full_prompt = f\"{INSTRUCTION_PROMPT}\\n\\n{task_text}\"\n",
        "\n",
        "# ---------- OpenAI: GPT-4 (gpt-4o) ----------\n",
        "from openai import OpenAI as _OpenAI\n",
        "_openai_client = _OpenAI(api_key=os.environ.get(\"OPENAI_API_KEY\"))\n",
        "_openai_resp = _openai_client.chat.completions.create(\n",
        "    model=\"chatgpt-4o-latest\",\n",
        "    messages=[\n",
        "        {\"role\": \"system\", \"content\": \"Output only a single number (e.g., 0, 1, 2).\"},\n",
        "        {\"role\": \"user\", \"content\": full_prompt}\n",
        "    ]\n",
        ")\n",
        "openai_answer = _openai_resp.choices[0].message.content.strip()\n",
        "\n",
        "# ---------- Anthropic: Claude 3.5 Sonnet (October 2024 snapshot) ----------\n",
        "import anthropic as _anthropic\n",
        "_anthropic_client = _anthropic.Anthropic(api_key=os.environ.get(\"ANTHROPIC_API_KEY\"))\n",
        "_anthropic_msg = _anthropic_client.messages.create(\n",
        "    model=\"claude-3-5-sonnet-20241022\",\n",
        "\n",
        "    messages=[{\"role\": \"user\", \"content\": full_prompt}],\n",
        ")\n",
        "claude_answer = \"\".join(getattr(p, \"text\", \"\") for p in _anthropic_msg.content).strip()\n",
        "\n",
        "# ---------- Google: Gemini 1.5 Pro ----------\n",
        "from google import genai as _genai\n",
        "_gem_client = _genai.Client(api_key=os.environ.get(\"GEMINI_API_KEY\"))\n",
        "_gem_resp = _gem_client.models.generate_content(\n",
        "    model=\"gemini-1.5-pro-latest\",\n",
        "    contents=full_prompt,\n",
        "    config={\"temperature\": 0, \"max_output_tokens\": 8},\n",
        ")\n",
        "gemini_answer = (getattr(_gem_resp, \"text\", \"\") or \"\").strip()\n",
        "\n",
        "# ---------- DeepSeek: V3 via OpenAI-compatible endpoint ----------\n",
        "from openai import OpenAI as _DSOpenAI\n",
        "_ds_client = _DSOpenAI(\n",
        "    api_key=os.environ.get(\"DEEPSEEK_API_KEY\"),\n",
        "    base_url=\"https://api.deepseek.com\"\n",
        ")\n",
        "_ds_resp = _ds_client.chat.completions.create(\n",
        "    model=\"deepseek-chat\",\n",
        "    messages=[\n",
        "        {\"role\": \"system\", \"content\": \"Output only the number (e.g., 0, 1, 2).\"},\n",
        "        {\"role\": \"user\", \"content\": full_prompt}\n",
        "    ]\n",
        ")\n",
        "deepseek_answer = _ds_resp.choices[0].message.content.strip()\n",
        "\n",
        "print(\"=== Gloss Selection Results (number only expected) ===\")\n",
        "print(f\"openai:gpt-4o -> {openai_answer}\")\n",
        "print(f\"anthropic:claude-3-5-sonnet-20241022 -> {claude_answer}\")\n",
        "print(f\"gemini:gemini-1.5-pro-latest -> {gemini_answer}\")\n",
        "print(f\"deepseek:deepseek-chat -> {deepseek_answer}\")"
      ],
      "metadata": {
        "id": "ZgBNbOtjaCm2"
      },
      "execution_count": null,
      "outputs": []
    },
    {
      "cell_type": "markdown",
      "source": [
        "export OPENAI_API_KEY=sk-...\n",
        "\n",
        "export ANTHROPIC_API_KEY=sk-ant-...\n",
        "\n",
        "export GEMINI_API_KEY=AIza...\n",
        "\n",
        "export DEEPSEEK_API_KEY=sk-deepseek-...\n",
        "\n",
        "`python run_gloss_llms_min.py \"Context: The bank of the river was steep. Options: 0) financial institution 1) sloping land 2) storage place\"`\n"
      ],
      "metadata": {
        "id": "i3o0aXXiaxun"
      }
    }
  ],
  "metadata": {
    "colab": {
      "provenance": []
    },
    "kernelspec": {
      "display_name": "Python 3",
      "name": "python3"
    },
    "language_info": {
      "name": "python"
    }
  },
  "nbformat": 4,
  "nbformat_minor": 0
}